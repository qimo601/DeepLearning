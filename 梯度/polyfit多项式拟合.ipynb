{
 "cells": [
  {
   "cell_type": "markdown",
   "id": "f002af68-6cfc-40ee-9f8a-f34992730aaa",
   "metadata": {},
   "source": [
    "np.polyfit 是 NumPy 库中用于多项式拟合的函数。这个函数用于拟合一组数据点到一个多项式模型，返回多项式系数。"
   ]
  },
  {
   "cell_type": "markdown",
   "id": "cc438728-57cd-45ef-83a7-390ba243f427",
   "metadata": {},
   "source": [
    "具体来说，np.polyfit(x, y, deg) 接受三个参数：\n",
    "\n",
    "-x: 数据点的 x 坐标。  \n",
    "-y: 数据点的 y 坐标。  \n",
    "-deg: 多项式的阶数。  \n",
    "函数返回一个包含多项式系数的 NumPy 数组，系数的顺序是从高次到低次的。例如，对于一次多项式（线性拟合），返回的数组将包含两个元素，分别对应于一次项和常数项。"
   ]
  },
  {
   "cell_type": "code",
   "execution_count": null,
   "id": "00a60179-9bd1-4aff-b9a6-a430bce09fc1",
   "metadata": {},
   "outputs": [],
   "source": [
    "下面是一个简单的示例："
   ]
  },
  {
   "cell_type": "code",
   "execution_count": 3,
   "id": "64421c86-8950-4bc0-86ef-08af30ebf417",
   "metadata": {},
   "outputs": [
    {
     "name": "stdout",
     "output_type": "stream",
     "text": [
      "[1.02 1.02]\n",
      "1.0200000000000007\n",
      "2.0400000000000005\n",
      "3.0600000000000005\n"
     ]
    }
   ],
   "source": [
    "import numpy as np\n",
    "\n",
    "# 生成一些示例数据\n",
    "x = np.array([0, 1, 2, 3, 4])\n",
    "y = np.array([1.1, 2.0, 2.9, 4.2, 5.1])\n",
    "\n",
    "# 进行一次多项式拟合\n",
    "coefficients = np.polyfit(x, y, 1)\n",
    "\n",
    "# 打印拟合的系数\n",
    "print(coefficients)\n",
    "\n",
    "# 构造一次多项式\n",
    "fit_function = np.poly1d(coefficients)\n",
    "#多项式：1.02x+1.02\n",
    "print(fit_function(0)) # x=0代入\n",
    "print(fit_function(1))\n",
    "print(fit_function(2))\n"
   ]
  },
  {
   "cell_type": "markdown",
   "id": "92870d08-3ee9-4a85-a3eb-18058da5bb44",
   "metadata": {},
   "source": [
    "在这个例子中，np.polyfit 将 x 和 y 数据点拟合成一个一次多项式，返回的 coefficients 数组将包含拟合出的斜率和截距。 \n",
    "这样，你就可以使用这些系数构建拟合函数：**y=1.02x+1.02**，例如：\n",
    ">```python\n",
    ">fit_function = np.poly1d(coefficients)\n",
    ">print(fit_function(x)) \n",
    ">```"
   ]
  },
  {
   "cell_type": "markdown",
   "id": "91fdf57c-9e8d-4882-b0d3-ed5d9669d350",
   "metadata": {},
   "source": [
    "然后，fit_function 就是拟合出的一次多项式，你可以用它来预测新的 x 值对应的 y 值。"
   ]
  }
 ],
 "metadata": {
  "kernelspec": {
   "display_name": "Python 3 (ipykernel)",
   "language": "python",
   "name": "python3"
  },
  "language_info": {
   "codemirror_mode": {
    "name": "ipython",
    "version": 3
   },
   "file_extension": ".py",
   "mimetype": "text/x-python",
   "name": "python",
   "nbconvert_exporter": "python",
   "pygments_lexer": "ipython3",
   "version": "3.9.19"
  }
 },
 "nbformat": 4,
 "nbformat_minor": 5
}
