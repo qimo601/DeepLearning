{
 "cells": [
  {
   "cell_type": "code",
   "execution_count": 1,
   "id": "7eab3f37-ac9b-47df-80b3-cd9ff902e35c",
   "metadata": {},
   "outputs": [
    {
     "ename": "NameError",
     "evalue": "name 'dfgdfgdfgddfgdfg' is not defined",
     "output_type": "error",
     "traceback": [
      "\u001b[1;31m---------------------------------------------------------------------------\u001b[0m",
      "\u001b[1;31mNameError\u001b[0m                                 Traceback (most recent call last)",
      "Cell \u001b[1;32mIn[1], line 1\u001b[0m\n\u001b[1;32m----> 1\u001b[0m \u001b[43mdfgdfgdfgddfgdfg\u001b[49m\n",
      "\u001b[1;31mNameError\u001b[0m: name 'dfgdfgdfgddfgdfg' is not defined"
     ]
    }
   ],
   "source": [
    "dfgdfgdfgddfgdfg"
   ]
  },
  {
   "cell_type": "markdown",
   "id": "9c431ad6-b987-4c99-ab5b-19835a70b71a",
   "metadata": {},
   "source": [
    "dfgdfsg dfgdfg\n",
    "dgdfgdfdfgdfg"
   ]
  },
  {
   "cell_type": "raw",
   "id": "942aaeb3-a526-44bd-a3ce-d17ce3e92d8b",
   "metadata": {},
   "source": [
    "dfgdfgdfgddfgdfg"
   ]
  },
  {
   "cell_type": "code",
   "execution_count": null,
   "id": "9f8c012b-709a-425e-8722-6cf996b37d90",
   "metadata": {},
   "outputs": [],
   "source": []
  }
 ],
 "metadata": {
  "kernelspec": {
   "display_name": "liuenv",
   "language": "python",
   "name": "liuenv"
  },
  "language_info": {
   "codemirror_mode": {
    "name": "ipython",
    "version": 3
   },
   "file_extension": ".py",
   "mimetype": "text/x-python",
   "name": "python",
   "nbconvert_exporter": "python",
   "pygments_lexer": "ipython3",
   "version": "3.9.19"
  }
 },
 "nbformat": 4,
 "nbformat_minor": 5
}
